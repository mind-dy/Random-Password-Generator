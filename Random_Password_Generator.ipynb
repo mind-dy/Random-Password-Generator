{
  "nbformat": 4,
  "nbformat_minor": 0,
  "metadata": {
    "colab": {
      "provenance": [],
      "authorship_tag": "ABX9TyMlF96Z3Zh+6C4cC7FRPWsD",
      "include_colab_link": true
    },
    "kernelspec": {
      "name": "python3",
      "display_name": "Python 3"
    },
    "language_info": {
      "name": "python"
    }
  },
  "cells": [
    {
      "cell_type": "markdown",
      "metadata": {
        "id": "view-in-github",
        "colab_type": "text"
      },
      "source": [
        "<a href=\"https://colab.research.google.com/github/mind-dy/Random-Password-Generator-TKH/blob/main/Random_Password_Generator.ipynb\" target=\"_parent\"><img src=\"https://colab.research.google.com/assets/colab-badge.svg\" alt=\"Open In Colab\"/></a>"
      ]
    },
    {
      "cell_type": "code",
      "source": [
        "#Password Generator Project\n",
        "import random\n",
        "letters = ['a', 'b', 'c', 'd', 'e', 'f', 'g', 'h', 'i', 'j', 'k', 'l', 'm', 'n', 'o', 'p', 'q', 'r', 's', 't', 'u', 'v', 'w', 'x', 'y', 'z', 'A', 'B', 'C', 'D', 'E', 'F', 'G', 'H', 'I', 'J', 'K', 'L', 'M', 'N', 'O', 'P', 'Q', 'R', 'S', 'T', 'U', 'V', 'W', 'X', 'Y', 'Z']\n",
        "numbers = ['0', '1', '2', '3', '4', '5', '6', '7', '8', '9']\n",
        "symbols = ['!', '#', '$', '%', '&', '(', ')', '*', '+']\n",
        "\n",
        "print(\"Welcome to the PyPassword Generator!\")\n",
        "nr_letters= int(input(\"How many letters would you like in your password?\\n\"))\n",
        "nr_numbers = int(input(f\"How many numbers would you like?\\n\"))\n",
        "nr_symbols = int(input(f\"How many symbols would you like?\\n\"))\n",
        "\n",
        "password = \"\"\n",
        "\n",
        "for letter in range(nr_letters):\n",
        "  password += letters[random.randint(0,len(letters)-1)]\n",
        "\n",
        "for number in range(nr_numbers):\n",
        "  password += numbers[random.randint(0,len(numbers)-1)]\n",
        "\n",
        "for symbol in range(nr_symbols):\n",
        "  password += symbols[random.randint(0,len(symbols)-1)]\n",
        "\n",
        "print(f\"Your password is: {password}\")"
      ],
      "metadata": {
        "id": "RToj0tB7M_y9",
        "colab": {
          "base_uri": "https://localhost:8080/"
        },
        "outputId": "b1f90f2f-77d5-453a-a65e-9b2a964b01ad"
      },
      "execution_count": 6,
      "outputs": [
        {
          "output_type": "stream",
          "name": "stdout",
          "text": [
            "Welcome to the PyPassword Generator!\n",
            "How many letters would you like in your password?\n",
            "5\n",
            "How many numbers would you like?\n",
            "3\n",
            "How many symbols would you like?\n",
            "2\n",
            "Your password is: YPHyI782+!\n"
          ]
        }
      ]
    }
  ]
}